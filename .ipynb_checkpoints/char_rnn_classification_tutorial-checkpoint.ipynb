{
 "cells": [
  {
   "cell_type": "code",
   "execution_count": 1,
   "metadata": {
    "executionInfo": {
     "elapsed": 797,
     "status": "ok",
     "timestamp": 1686922193282,
     "user": {
      "displayName": "atanu maity",
      "userId": "05429035846975438358"
     },
     "user_tz": -330
    },
    "id": "MKMInVETWGiy"
   },
   "outputs": [],
   "source": [
    "# For tips on running notebooks in Google Colab, see\n",
    "# https://pytorch.org/tutorials/beginner/colab\n",
    "%matplotlib inline"
   ]
  },
  {
   "cell_type": "markdown",
   "metadata": {
    "id": "4HTsDyv8WGi2"
   },
   "source": [
    "\n",
    "# NLP From Scratch: Classifying Names with a Character-Level RNN\n",
    "**Author**: [Sean Robertson](https://github.com/spro)\n",
    "\n",
    "We will be building and training a basic character-level Recurrent Neural\n",
    "Network (RNN) to classify words. This tutorial, along with two other\n",
    "Natural Language Processing (NLP) \"from scratch\" tutorials\n",
    ":doc:`/intermediate/char_rnn_generation_tutorial` and\n",
    ":doc:`/intermediate/seq2seq_translation_tutorial`, show how to\n",
    "preprocess data to model NLP. In particular these tutorials do not\n",
    "use many of the convenience functions of `torchtext`, so you can see how\n",
    "preprocessing to model NLP works at a low level.\n",
    "\n",
    "A character-level RNN reads words as a series of characters -\n",
    "outputting a prediction and \"hidden state\" at each step, feeding its\n",
    "previous hidden state into each next step. We take the final prediction\n",
    "to be the output, i.e. which class the word belongs to.\n",
    "\n",
    "Specifically, we'll train on a few thousand surnames from 18 languages\n",
    "of origin, and predict which language a name is from based on the\n",
    "spelling:\n",
    "\n",
    "::\n",
    "\n",
    "    $ python predict.py Hinton\n",
    "    (-0.47) Scottish\n",
    "    (-1.52) English\n",
    "    (-3.57) Irish\n",
    "\n",
    "    $ python predict.py Schmidhuber\n",
    "    (-0.19) German\n",
    "    (-2.48) Czech\n",
    "    (-2.68) Dutch\n",
    "\n",
    "\n",
    "## Recommended Preparation\n",
    "\n",
    "Before starting this tutorial it is recommended that you have installed PyTorch,\n",
    "and have a basic understanding of Python programming language and Tensors:\n",
    "\n",
    "-  https://pytorch.org/ For installation instructions\n",
    "-  :doc:`/beginner/deep_learning_60min_blitz` to get started with PyTorch in general\n",
    "   and learn the basics of Tensors\n",
    "-  :doc:`/beginner/pytorch_with_examples` for a wide and deep overview\n",
    "-  :doc:`/beginner/former_torchies_tutorial` if you are former Lua Torch user\n",
    "\n",
    "It would also be useful to know about RNNs and how they work:\n",
    "\n",
    "-  [The Unreasonable Effectiveness of Recurrent Neural\n",
    "   Networks](https://karpathy.github.io/2015/05/21/rnn-effectiveness/)_\n",
    "   shows a bunch of real life examples\n",
    "-  [Understanding LSTM\n",
    "   Networks](https://colah.github.io/posts/2015-08-Understanding-LSTMs/)_\n",
    "   is about LSTMs specifically but also informative about RNNs in\n",
    "   general\n",
    "\n",
    "## Preparing the Data\n",
    "\n",
    ".. Note::\n",
    "   Download the data from\n",
    "   [here](https://download.pytorch.org/tutorial/data.zip)\n",
    "   and extract it to the current directory.\n",
    "\n",
    "Included in the ``data/names`` directory are 18 text files named as\n",
    "``[Language].txt``. Each file contains a bunch of names, one name per\n",
    "line, mostly romanized (but we still need to convert from Unicode to\n",
    "ASCII).\n",
    "\n",
    "We'll end up with a dictionary of lists of names per language,\n",
    "``{language: [names ...]}``. The generic variables \"category\" and \"line\"\n",
    "(for language and name in our case) are used for later extensibility.\n"
   ]
  },
  {
   "cell_type": "code",
   "execution_count": 2,
   "metadata": {
    "colab": {
     "base_uri": "https://localhost:8080/"
    },
    "executionInfo": {
     "elapsed": 30685,
     "status": "ok",
     "timestamp": 1686922245504,
     "user": {
      "displayName": "atanu maity",
      "userId": "05429035846975438358"
     },
     "user_tz": -330
    },
    "id": "E3pltcEqB7F9",
    "outputId": "bcf43fd6-fc46-498b-f2de-84ecb613fb71"
   },
   "outputs": [],
   "source": [
    "# from google.colab import drive\n",
    "# drive.mount('/content/drive')"
   ]
  },
  {
   "cell_type": "code",
   "execution_count": 4,
   "metadata": {
    "colab": {
     "base_uri": "https://localhost:8080/"
    },
    "executionInfo": {
     "elapsed": 991,
     "status": "ok",
     "timestamp": 1686922250843,
     "user": {
      "displayName": "atanu maity",
      "userId": "05429035846975438358"
     },
     "user_tz": -330
    },
    "id": "hmay5am0nlK0",
    "outputId": "49739912-352b-42c4-a548-7a3648ebb3ca"
   },
   "outputs": [
    {
     "name": "stdout",
     "output_type": "stream",
     "text": [
      "['../data/names/Dutch.txt', '../data/names/Spanish.txt', '../data/names/English.txt', '../data/names/French.txt', '../data/names/Scottish.txt', '../data/names/Chinese.txt', '../data/names/Portuguese.txt', '../data/names/Russian.txt', '../data/names/Czech.txt', '../data/names/German.txt', '../data/names/Italian.txt', '../data/names/Arabic.txt', '../data/names/Greek.txt', '../data/names/Korean.txt', '../data/names/Polish.txt', '../data/names/Japanese.txt', '../data/names/Irish.txt', '../data/names/Vietnamese.txt']\n"
     ]
    }
   ],
   "source": [
    "from io import open\n",
    "import glob\n",
    "import os\n",
    "\n",
    "def findFiles(path): return glob.glob(path)\n",
    "\n",
    "# print(findFiles('drive/MyDrive/data/names/*.txt'))\n",
    "print(findFiles('../data/names/*.txt'))"
   ]
  },
  {
   "cell_type": "code",
   "execution_count": 5,
   "metadata": {
    "colab": {
     "base_uri": "https://localhost:8080/"
    },
    "executionInfo": {
     "elapsed": 5,
     "status": "ok",
     "timestamp": 1686922252159,
     "user": {
      "displayName": "atanu maity",
      "userId": "05429035846975438358"
     },
     "user_tz": -330
    },
    "id": "zea7uoU1WGi4",
    "outputId": "5ac19a8a-fce0-4c69-a9f7-e065297575a6"
   },
   "outputs": [
    {
     "name": "stdout",
     "output_type": "stream",
     "text": [
      "Slusarski\n"
     ]
    }
   ],
   "source": [
    "import unicodedata\n",
    "import string\n",
    "\n",
    "all_letters = string.ascii_letters + \" .,;'\"\n",
    "n_letters = len(all_letters)\n",
    "\n",
    "# Turn a Unicode string to plain ASCII, thanks to https://stackoverflow.com/a/518232/2809427\n",
    "def unicodeToAscii(s):\n",
    "    return ''.join(\n",
    "        c for c in unicodedata.normalize('NFD', s)\n",
    "        if unicodedata.category(c) != 'Mn'\n",
    "        and c in all_letters\n",
    "    )\n",
    "\n",
    "print(unicodeToAscii('Ślusàrski'))"
   ]
  },
  {
   "cell_type": "code",
   "execution_count": null,
   "metadata": {
    "executionInfo": {
     "elapsed": 7479,
     "status": "ok",
     "timestamp": 1686922260231,
     "user": {
      "displayName": "atanu maity",
      "userId": "05429035846975438358"
     },
     "user_tz": -330
    },
    "id": "OSTyEr8ZosMV"
   },
   "outputs": [],
   "source": [
    "# Build the category_lines dictionary, a list of names per language\n",
    "category_lines = {}\n",
    "all_categories = []\n",
    "\n",
    "# Read a file and split into lines\n",
    "def readLines(filename):\n",
    "    lines = open(filename, encoding='utf-8').read().strip().split('\\n')\n",
    "    return [unicodeToAscii(line) for line in lines]\n",
    "\n",
    "for filename in findFiles('../data/names/*.txt'):\n",
    "    category = os.path.splitext(os.path.basename(filename))[0]\n",
    "    all_categories.append(category)\n",
    "    lines = readLines(filename)\n",
    "    category_lines[category] = lines\n",
    "\n",
    "n_categories = len(all_categories)"
   ]
  },
  {
   "cell_type": "markdown",
   "metadata": {
    "id": "5sHYtbneWGi6"
   },
   "source": [
    "Now we have ``category_lines``, a dictionary mapping each category\n",
    "(language) to a list of lines (names). We also kept track of\n",
    "``all_categories`` (just a list of languages) and ``n_categories`` for\n",
    "later reference.\n",
    "\n",
    "\n"
   ]
  },
  {
   "cell_type": "code",
   "execution_count": 8,
   "metadata": {
    "colab": {
     "base_uri": "https://localhost:8080/"
    },
    "executionInfo": {
     "elapsed": 32,
     "status": "ok",
     "timestamp": 1686922260232,
     "user": {
      "displayName": "atanu maity",
      "userId": "05429035846975438358"
     },
     "user_tz": -330
    },
    "id": "WHAaRRZaWGi7",
    "outputId": "90f6d732-ddff-4379-96bb-d87f35e3942a"
   },
   "outputs": [
    {
     "name": "stdout",
     "output_type": "stream",
     "text": [
      "['Abandonato', 'Abatangelo', 'Abatantuono', 'Abate', 'Abategiovanni']\n"
     ]
    }
   ],
   "source": [
    "print(category_lines['Italian'][:5])"
   ]
  },
  {
   "cell_type": "markdown",
   "metadata": {
    "id": "MO09xOBXWGi9"
   },
   "source": [
    "### Turning Names into Tensors\n",
    "\n",
    "Now that we have all the names organized, we need to turn them into\n",
    "Tensors to make any use of them.\n",
    "\n",
    "To represent a single letter, we use a \"one-hot vector\" of size\n",
    "``<1 x n_letters>``. A one-hot vector is filled with 0s except for a 1\n",
    "at index of the current letter, e.g. ``\"b\" = <0 1 0 0 0 ...>``.\n",
    "\n",
    "To make a word we join a bunch of those into a 2D matrix\n",
    "``<line_length x 1 x n_letters>``.\n",
    "\n",
    "That extra 1 dimension is because PyTorch assumes everything is in\n",
    "batches - we're just using a batch size of 1 here.\n",
    "\n",
    "\n"
   ]
  },
  {
   "cell_type": "code",
   "execution_count": 9,
   "metadata": {
    "colab": {
     "base_uri": "https://localhost:8080/"
    },
    "executionInfo": {
     "elapsed": 5121,
     "status": "ok",
     "timestamp": 1686922265325,
     "user": {
      "displayName": "atanu maity",
      "userId": "05429035846975438358"
     },
     "user_tz": -330
    },
    "id": "V6k4zJDlWGi-",
    "outputId": "4852ba00-1e22-4858-d8e6-ebd934459b33"
   },
   "outputs": [
    {
     "name": "stdout",
     "output_type": "stream",
     "text": [
      "tensor([[0., 0., 0., 0., 0., 0., 0., 0., 0., 0., 0., 0., 0., 0., 0., 0., 0., 0.,\n",
      "         0., 0., 0., 0., 0., 0., 0., 0., 0., 0., 0., 0., 0., 0., 0., 0., 0., 1.,\n",
      "         0., 0., 0., 0., 0., 0., 0., 0., 0., 0., 0., 0., 0., 0., 0., 0., 0., 0.,\n",
      "         0., 0., 0.]])\n",
      "torch.Size([5, 1, 57])\n"
     ]
    }
   ],
   "source": [
    "import torch\n",
    "\n",
    "# Find letter index from all_letters, e.g. \"a\" = 0\n",
    "def letterToIndex(letter):\n",
    "    return all_letters.find(letter)\n",
    "\n",
    "# Just for demonstration, turn a letter into a <1 x n_letters> Tensor\n",
    "def letterToTensor(letter):\n",
    "    tensor = torch.zeros(1, n_letters)\n",
    "    tensor[0][letterToIndex(letter)] = 1\n",
    "    return tensor\n",
    "\n",
    "# Turn a line into a <line_length x 1 x n_letters>,\n",
    "# or an array of one-hot letter vectors\n",
    "def lineToTensor(line):\n",
    "    tensor = torch.zeros(len(line), 1, n_letters)\n",
    "    for li, letter in enumerate(line):\n",
    "        tensor[li][0][letterToIndex(letter)] = 1\n",
    "    return tensor\n",
    "\n",
    "print(letterToTensor('J'))\n",
    "\n",
    "print(lineToTensor('Jones').size())"
   ]
  },
  {
   "cell_type": "markdown",
   "metadata": {
    "id": "9QlioNFtWGjA"
   },
   "source": [
    "## Creating the Network\n",
    "\n",
    "Before autograd, creating a recurrent neural network in Torch involved\n",
    "cloning the parameters of a layer over several timesteps. The layers\n",
    "held hidden state and gradients which are now entirely handled by the\n",
    "graph itself. This means you can implement a RNN in a very \"pure\" way,\n",
    "as regular feed-forward layers.\n",
    "\n",
    "This RNN module (mostly copied from [the PyTorch for Torch users\n",
    "tutorial](https://pytorch.org/tutorials/beginner/former_torchies/\n",
    "nn_tutorial.html#example-2-recurrent-net)_)\n",
    "is just 2 linear layers which operate on an input and hidden state, with\n",
    "a ``LogSoftmax`` layer after the output.\n",
    "\n",
    "\n"
   ]
  },
  {
   "cell_type": "code",
   "execution_count": 10,
   "metadata": {
    "executionInfo": {
     "elapsed": 31,
     "status": "ok",
     "timestamp": 1686922265326,
     "user": {
      "displayName": "atanu maity",
      "userId": "05429035846975438358"
     },
     "user_tz": -330
    },
    "id": "Crjn3GfgWGjB"
   },
   "outputs": [],
   "source": [
    "import torch.nn as nn\n",
    "\n",
    "class RNN(nn.Module):\n",
    "    def __init__(self, input_size, hidden_size, output_size):\n",
    "        super(RNN, self).__init__()\n",
    "\n",
    "        self.hidden_size = hidden_size\n",
    "\n",
    "        self.i2h = nn.Linear(input_size + hidden_size, hidden_size)\n",
    "        self.h2o = nn.Linear(hidden_size, output_size)\n",
    "        self.softmax = nn.LogSoftmax(dim=1)\n",
    "\n",
    "    def forward(self, input, hidden):\n",
    "        combined = torch.cat((input, hidden), 1)\n",
    "        hidden = self.i2h(combined)\n",
    "        output = self.h2o(hidden)\n",
    "        output = self.softmax(output)\n",
    "        return output, hidden\n",
    "\n",
    "    def initHidden(self):\n",
    "        return torch.zeros(1, self.hidden_size)\n",
    "\n",
    "n_hidden = 128\n",
    "rnn = RNN(n_letters, n_hidden, n_categories)"
   ]
  },
  {
   "cell_type": "markdown",
   "metadata": {
    "id": "fOoxEXKSWGjC"
   },
   "source": [
    "To run a step of this network we need to pass an input (in our case, the\n",
    "Tensor for the current letter) and a previous hidden state (which we\n",
    "initialize as zeros at first). We'll get back the output (probability of\n",
    "each language) and a next hidden state (which we keep for the next\n",
    "step).\n",
    "\n",
    "\n"
   ]
  },
  {
   "cell_type": "code",
   "execution_count": 11,
   "metadata": {
    "executionInfo": {
     "elapsed": 31,
     "status": "ok",
     "timestamp": 1686922265327,
     "user": {
      "displayName": "atanu maity",
      "userId": "05429035846975438358"
     },
     "user_tz": -330
    },
    "id": "owARRkZhWGjD"
   },
   "outputs": [],
   "source": [
    "input = letterToTensor('A')\n",
    "hidden = torch.zeros(1, n_hidden)\n",
    "\n",
    "output, next_hidden = rnn(input, hidden) #forward is the default method here"
   ]
  },
  {
   "cell_type": "code",
   "execution_count": 12,
   "metadata": {
    "colab": {
     "base_uri": "https://localhost:8080/"
    },
    "executionInfo": {
     "elapsed": 378,
     "status": "ok",
     "timestamp": 1686922275557,
     "user": {
      "displayName": "atanu maity",
      "userId": "05429035846975438358"
     },
     "user_tz": -330
    },
    "id": "1GVlEW2T6bZ8",
    "outputId": "9fedf1f6-e6bd-4b2e-840a-852fff318751"
   },
   "outputs": [
    {
     "data": {
      "text/plain": [
       "tensor([[-2.8879, -2.9183, -2.8611, -2.8946, -2.9310, -2.8328, -2.8864, -2.8931,\n",
       "         -2.8534, -2.8750, -2.8801, -2.8571, -2.8940, -3.0083, -3.0396, -2.8318,\n",
       "         -2.7926, -2.9187]], grad_fn=<LogSoftmaxBackward0>)"
      ]
     },
     "execution_count": 12,
     "metadata": {},
     "output_type": "execute_result"
    }
   ],
   "source": [
    "output"
   ]
  },
  {
   "cell_type": "markdown",
   "metadata": {
    "id": "R6X_aO7-WGjD"
   },
   "source": [
    "For the sake of efficiency we don't want to be creating a new Tensor for\n",
    "every step, so we will use ``lineToTensor`` instead of\n",
    "``letterToTensor`` and use slices. This could be further optimized by\n",
    "precomputing batches of Tensors.\n",
    "\n",
    "\n"
   ]
  },
  {
   "cell_type": "code",
   "execution_count": 13,
   "metadata": {
    "colab": {
     "base_uri": "https://localhost:8080/"
    },
    "executionInfo": {
     "elapsed": 428,
     "status": "ok",
     "timestamp": 1686922278367,
     "user": {
      "displayName": "atanu maity",
      "userId": "05429035846975438358"
     },
     "user_tz": -330
    },
    "id": "WPmcVSfhWGjE",
    "outputId": "b2b6df8b-a23f-4703-93a5-6d337d33e463"
   },
   "outputs": [
    {
     "name": "stdout",
     "output_type": "stream",
     "text": [
      "tensor([[-2.8879, -2.9183, -2.8611, -2.8946, -2.9310, -2.8328, -2.8864, -2.8931,\n",
      "         -2.8534, -2.8750, -2.8801, -2.8571, -2.8940, -3.0083, -3.0396, -2.8318,\n",
      "         -2.7926, -2.9187]], grad_fn=<LogSoftmaxBackward0>)\n"
     ]
    }
   ],
   "source": [
    "input = lineToTensor('Albert')\n",
    "hidden = torch.zeros(1, n_hidden)\n",
    "\n",
    "output, next_hidden = rnn(input[0], hidden)\n",
    "print(output)"
   ]
  },
  {
   "cell_type": "markdown",
   "metadata": {
    "id": "6I8s4e74WGjE"
   },
   "source": [
    "As you can see the output is a ``<1 x n_categories>`` Tensor, where\n",
    "every item is the likelihood of that category (higher is more likely).\n",
    "\n",
    "\n"
   ]
  },
  {
   "cell_type": "markdown",
   "metadata": {
    "id": "1zaRDOyvWGjE"
   },
   "source": [
    "## Training\n",
    "Preparing for Training\n",
    "----------------------\n",
    "\n",
    "Before going into training we should make a few helper functions. The\n",
    "first is to interpret the output of the network, which we know to be a\n",
    "likelihood of each category. We can use ``Tensor.topk`` to get the index\n",
    "of the greatest value:\n",
    "\n",
    "\n"
   ]
  },
  {
   "cell_type": "code",
   "execution_count": 14,
   "metadata": {
    "colab": {
     "base_uri": "https://localhost:8080/"
    },
    "executionInfo": {
     "elapsed": 393,
     "status": "ok",
     "timestamp": 1686922446635,
     "user": {
      "displayName": "atanu maity",
      "userId": "05429035846975438358"
     },
     "user_tz": -330
    },
    "id": "IsfDK0d-WGjE",
    "outputId": "70b4917d-6b7f-4b09-ff4a-83a26a1d46e9"
   },
   "outputs": [
    {
     "name": "stdout",
     "output_type": "stream",
     "text": [
      "('Irish', 16)\n"
     ]
    }
   ],
   "source": [
    "def categoryFromOutput(output):\n",
    "    top_n, top_i = output.topk(1)\n",
    "    category_i = top_i[0].item()\n",
    "    return all_categories[category_i], category_i\n",
    "\n",
    "print(categoryFromOutput(output))"
   ]
  },
  {
   "cell_type": "markdown",
   "metadata": {
    "id": "UiP_Y3l3WGjF"
   },
   "source": [
    "We will also want a quick way to get a training example (a name and its\n",
    "language):\n",
    "\n",
    "\n"
   ]
  },
  {
   "cell_type": "code",
   "execution_count": 29,
   "metadata": {
    "colab": {
     "base_uri": "https://localhost:8080/"
    },
    "executionInfo": {
     "elapsed": 739,
     "status": "ok",
     "timestamp": 1686923147470,
     "user": {
      "displayName": "atanu maity",
      "userId": "05429035846975438358"
     },
     "user_tz": -330
    },
    "id": "b7Cgd4tbWGjF",
    "outputId": "5934037a-e8be-4d19-94fd-1c6b0e018d2e"
   },
   "outputs": [
    {
     "name": "stdout",
     "output_type": "stream",
     "text": [
      "category = Spanish / line = Cuevas\n",
      "category = Polish / line = Mikolajczak\n",
      "category = French / line = Beauchene\n",
      "category = Russian / line = Mihailychev\n",
      "category = German / line = Protz\n",
      "category = Vietnamese / line = Lieu\n",
      "category = Portuguese / line = Machado\n",
      "category = Irish / line = Aonghus\n",
      "category = Greek / line = Matsoukis\n",
      "category = Chinese / line = Law\n"
     ]
    }
   ],
   "source": [
    "import random\n",
    "\n",
    "def randomChoice(l):\n",
    "    return l[random.randint(0, len(l) - 1)]\n",
    "\n",
    "def randomTrainingExample():\n",
    "    category = randomChoice(all_categories)\n",
    "    line = randomChoice(category_lines[category])\n",
    "    category_tensor = torch.tensor([all_categories.index(category)], dtype=torch.long)\n",
    "    line_tensor = lineToTensor(line)\n",
    "    return category, line, category_tensor, line_tensor\n",
    "\n",
    "for i in range(10):\n",
    "    category, line, category_tensor, line_tensor = randomTrainingExample()\n",
    "    print('category =', category, '/ line =', line)"
   ]
  },
  {
   "cell_type": "code",
   "execution_count": null,
   "metadata": {
    "id": "aAg6tKJOc6-P"
   },
   "outputs": [],
   "source": []
  },
  {
   "cell_type": "markdown",
   "metadata": {
    "id": "QD8vzgPhWGjG"
   },
   "source": [
    "### Training the Network\n",
    "\n",
    "Now all it takes to train this network is show it a bunch of examples,\n",
    "have it make guesses, and tell it if it's wrong.\n",
    "\n",
    "For the loss function ``nn.NLLLoss`` is appropriate, since the last\n",
    "layer of the RNN is ``nn.LogSoftmax``.\n",
    "\n",
    "\n"
   ]
  },
  {
   "cell_type": "code",
   "execution_count": 30,
   "metadata": {
    "executionInfo": {
     "elapsed": 381,
     "status": "ok",
     "timestamp": 1686923307590,
     "user": {
      "displayName": "atanu maity",
      "userId": "05429035846975438358"
     },
     "user_tz": -330
    },
    "id": "r8-oAGiAWGjG"
   },
   "outputs": [],
   "source": [
    "criterion = nn.NLLLoss()"
   ]
  },
  {
   "cell_type": "markdown",
   "metadata": {
    "id": "D4Pp6QYaWGjG"
   },
   "source": [
    "Each loop of training will:\n",
    "\n",
    "-  Create input and target tensors\n",
    "-  Create a zeroed initial hidden state\n",
    "-  Read each letter in and\n",
    "\n",
    "   -  Keep hidden state for next letter\n",
    "\n",
    "-  Compare final output to target\n",
    "-  Back-propagate\n",
    "-  Return the output and loss\n",
    "\n",
    "\n"
   ]
  },
  {
   "cell_type": "code",
   "execution_count": 34,
   "metadata": {
    "executionInfo": {
     "elapsed": 7,
     "status": "ok",
     "timestamp": 1686925267936,
     "user": {
      "displayName": "atanu maity",
      "userId": "05429035846975438358"
     },
     "user_tz": -330
    },
    "id": "VM0-hfBAlEr-"
   },
   "outputs": [],
   "source": [
    "category, line, category_tensor, line_tensor = randomTrainingExample()"
   ]
  },
  {
   "cell_type": "code",
   "execution_count": 37,
   "metadata": {
    "executionInfo": {
     "elapsed": 627,
     "status": "ok",
     "timestamp": 1686925318854,
     "user": {
      "displayName": "atanu maity",
      "userId": "05429035846975438358"
     },
     "user_tz": -330
    },
    "id": "AoSyIyMllHcS"
   },
   "outputs": [],
   "source": [
    "hidden = rnn.initHidden()\n",
    "\n",
    "rnn.zero_grad()"
   ]
  },
  {
   "cell_type": "code",
   "execution_count": 42,
   "metadata": {
    "colab": {
     "base_uri": "https://localhost:8080/"
    },
    "executionInfo": {
     "elapsed": 6,
     "status": "ok",
     "timestamp": 1686925766666,
     "user": {
      "displayName": "atanu maity",
      "userId": "05429035846975438358"
     },
     "user_tz": -330
    },
    "id": "cATL9I1ulHQp",
    "outputId": "5644121c-acd1-41aa-b7db-849770902a36"
   },
   "outputs": [
    {
     "name": "stdout",
     "output_type": "stream",
     "text": [
      "tensor([[-2.3954, -4.5023, -1.8610, -3.0415, -2.7940, -7.0098, -5.1426, -2.8085,\n",
      "         -2.7000, -1.1667, -4.3069, -2.9784, -4.8653, -6.0865, -4.0690, -3.4619,\n",
      "         -3.4415, -3.4156]], grad_fn=<LogSoftmaxBackward0>) \n",
      "\n",
      "tensor([[-4.5819, -7.3853, -2.3873, -3.5903, -3.4361, -5.9710, -7.5986, -1.5987,\n",
      "         -2.9929, -1.9894, -6.9000, -2.9713, -9.2061, -2.8949, -7.1041, -6.7253,\n",
      "         -1.1701, -3.6748]], grad_fn=<LogSoftmaxBackward0>) \n",
      "\n",
      "tensor([[-4.0005, -6.8102, -3.5398, -2.4306, -2.5226, -3.7400, -4.4456, -6.6444,\n",
      "         -4.7162, -3.0774, -6.7950, -1.6791, -6.3171, -4.0140, -6.8186, -1.3838,\n",
      "         -3.4876, -1.6008]], grad_fn=<LogSoftmaxBackward0>) \n",
      "\n",
      "tensor([[ -5.5811, -10.8600,  -7.2957,  -8.7508, -10.3539,  -3.0514, -12.8529,\n",
      "          -6.0007,  -7.8551,  -6.7921, -12.0017,  -7.0351, -15.0327,  -4.7707,\n",
      "         -12.4408, -10.1568,  -4.1643,  -0.0843]],\n",
      "       grad_fn=<LogSoftmaxBackward0>) \n",
      "\n",
      "tensor([[ -6.3956, -11.5296,  -7.9892,  -9.5647,  -7.0024,  -1.0237, -11.5935,\n",
      "          -9.9249,  -7.8459,  -5.3106, -12.8278, -11.7477, -13.5448,  -0.5487,\n",
      "          -9.9860,  -9.7731, -10.0356,  -2.9097]],\n",
      "       grad_fn=<LogSoftmaxBackward0>) \n",
      "\n"
     ]
    }
   ],
   "source": [
    "for i in range(line_tensor.size()[0]):\n",
    "    output, hidden = rnn(line_tensor[i], hidden)\n",
    "    print(output,'\\n')"
   ]
  },
  {
   "cell_type": "code",
   "execution_count": 39,
   "metadata": {
    "colab": {
     "base_uri": "https://localhost:8080/"
    },
    "executionInfo": {
     "elapsed": 488,
     "status": "ok",
     "timestamp": 1686925597450,
     "user": {
      "displayName": "atanu maity",
      "userId": "05429035846975438358"
     },
     "user_tz": -330
    },
    "id": "33wQH-_Ulau7",
    "outputId": "54d623a3-e8c6-4710-d022-005fc84eeff6"
   },
   "outputs": [
    {
     "data": {
      "text/plain": [
       "tensor([[ -5.6680,  -8.6556,  -5.9440,  -8.4766,  -5.9179,  -0.4628, -10.1945,\n",
       "          -9.7789,  -5.3656,  -3.6179,  -9.3982,  -8.0549, -13.3827,  -2.0012,\n",
       "          -6.8949,  -7.5255,  -7.9790,  -1.6491]],\n",
       "       grad_fn=<LogSoftmaxBackward0>)"
      ]
     },
     "execution_count": 39,
     "metadata": {},
     "output_type": "execute_result"
    }
   ],
   "source": [
    "output"
   ]
  },
  {
   "cell_type": "code",
   "execution_count": 41,
   "metadata": {
    "colab": {
     "base_uri": "https://localhost:8080/",
     "height": 35
    },
    "executionInfo": {
     "elapsed": 576,
     "status": "ok",
     "timestamp": 1686925647019,
     "user": {
      "displayName": "atanu maity",
      "userId": "05429035846975438358"
     },
     "user_tz": -330
    },
    "id": "zHfBRO-nlaqs",
    "outputId": "1d7fafa0-c9f2-4684-cf8f-18e82933cf4e"
   },
   "outputs": [
    {
     "data": {
      "application/vnd.google.colaboratory.intrinsic+json": {
       "type": "string"
      },
      "text/plain": [
       "'Vietnamese'"
      ]
     },
     "execution_count": 41,
     "metadata": {},
     "output_type": "execute_result"
    }
   ],
   "source": []
  },
  {
   "cell_type": "code",
   "execution_count": null,
   "metadata": {
    "id": "TcFe88DXlalF"
   },
   "outputs": [],
   "source": []
  },
  {
   "cell_type": "code",
   "execution_count": null,
   "metadata": {
    "id": "SXXxhflGlafO"
   },
   "outputs": [],
   "source": []
  },
  {
   "cell_type": "code",
   "execution_count": null,
   "metadata": {
    "id": "uk2a2R-GlaUf"
   },
   "outputs": [],
   "source": []
  },
  {
   "cell_type": "code",
   "execution_count": null,
   "metadata": {
    "id": "l1neoUAWlHFA"
   },
   "outputs": [],
   "source": []
  },
  {
   "cell_type": "code",
   "execution_count": 31,
   "metadata": {
    "executionInfo": {
     "elapsed": 494,
     "status": "ok",
     "timestamp": 1686924513996,
     "user": {
      "displayName": "atanu maity",
      "userId": "05429035846975438358"
     },
     "user_tz": -330
    },
    "id": "PAJBVonfWGjG"
   },
   "outputs": [],
   "source": [
    "learning_rate = 0.005 # If you set this too high, it might explode. If too low, it might not learn\n",
    "\n",
    "def train(category_tensor, line_tensor):\n",
    "    hidden = rnn.initHidden()\n",
    "\n",
    "    rnn.zero_grad()\n",
    "\n",
    "    for i in range(line_tensor.size()[0]):\n",
    "        output, hidden = rnn(line_tensor[i], hidden)\n",
    "\n",
    "    loss = criterion(output, category_tensor)\n",
    "    loss.backward()\n",
    "\n",
    "    # Add parameters' gradients to their values, multiplied by learning rate\n",
    "    for p in rnn.parameters():\n",
    "        p.data.add_(p.grad.data, alpha=-learning_rate)\n",
    "\n",
    "    return output, loss.item()"
   ]
  },
  {
   "cell_type": "markdown",
   "metadata": {
    "id": "B3iAPdnfWGjG"
   },
   "source": [
    "Now we just have to run that with a bunch of examples. Since the\n",
    "``train`` function returns both the output and loss we can print its\n",
    "guesses and also keep track of loss for plotting. Since there are 1000s\n",
    "of examples we print only every ``print_every`` examples, and take an\n",
    "average of the loss.\n",
    "\n",
    "\n"
   ]
  },
  {
   "cell_type": "code",
   "execution_count": 32,
   "metadata": {
    "colab": {
     "base_uri": "https://localhost:8080/"
    },
    "executionInfo": {
     "elapsed": 143602,
     "status": "ok",
     "timestamp": 1686924665425,
     "user": {
      "displayName": "atanu maity",
      "userId": "05429035846975438358"
     },
     "user_tz": -330
    },
    "id": "8Kf5iWNXWGjH",
    "outputId": "f3056111-b3d3-4fac-df2a-9146084838f8"
   },
   "outputs": [
    {
     "name": "stdout",
     "output_type": "stream",
     "text": [
      "5000 5% (0m 7s) 2.5148 Xiong / Vietnamese ✗ (Chinese)\n",
      "10000 10% (0m 14s) 1.8727 Specht / Dutch ✓\n",
      "15000 15% (0m 21s) 0.4516 Dubicki / Polish ✓\n",
      "20000 20% (0m 28s) 1.1589 Guo / Chinese ✓\n",
      "25000 25% (0m 36s) 3.5991 Borowski / Polish ✗ (Czech)\n",
      "30000 30% (0m 42s) 1.5826 Simoes / Portuguese ✓\n",
      "35000 35% (0m 49s) 0.3284 Mui / Chinese ✓\n",
      "40000 40% (0m 56s) 1.5457 Espley / English ✓\n",
      "45000 45% (1m 3s) 0.2727 Kedzierski / Polish ✓\n",
      "50000 50% (1m 10s) 0.2798 Damhain / Irish ✓\n",
      "55000 55% (1m 17s) 0.1427 Sniegowski / Polish ✓\n",
      "60000 60% (1m 25s) 1.3055 Ota / Japanese ✓\n",
      "65000 65% (1m 31s) 0.6775 Pho / Vietnamese ✓\n",
      "70000 70% (1m 39s) 0.9087 Attia / Arabic ✓\n",
      "75000 75% (1m 45s) 0.4107 Paszek / Polish ✓\n",
      "80000 80% (1m 53s) 3.5786 Gerges / German ✗ (Arabic)\n",
      "85000 85% (2m 1s) 0.1835 Jung  / Korean ✓\n",
      "90000 90% (2m 9s) 3.1396 Ransom / English ✗ (Czech)\n",
      "95000 95% (2m 15s) 0.1372 Totah / Arabic ✓\n",
      "100000 100% (2m 23s) 4.7159 Giles / Portuguese ✗ (French)\n"
     ]
    }
   ],
   "source": [
    "import time\n",
    "import math\n",
    "\n",
    "n_iters = 100000\n",
    "print_every = 5000\n",
    "plot_every = 1000\n",
    "\n",
    "\n",
    "\n",
    "# Keep track of losses for plotting\n",
    "current_loss = 0\n",
    "all_losses = []\n",
    "\n",
    "def timeSince(since):\n",
    "    now = time.time()\n",
    "    s = now - since\n",
    "    m = math.floor(s / 60)\n",
    "    s -= m * 60\n",
    "    return '%dm %ds' % (m, s)\n",
    "\n",
    "start = time.time()\n",
    "\n",
    "for iter in range(1, n_iters + 1):\n",
    "    category, line, category_tensor, line_tensor = randomTrainingExample()\n",
    "    output, loss = train(category_tensor, line_tensor)\n",
    "    current_loss += loss\n",
    "\n",
    "    # Print ``iter`` number, loss, name and guess\n",
    "    if iter % print_every == 0:\n",
    "        guess, guess_i = categoryFromOutput(output)\n",
    "        correct = '✓' if guess == category else '✗ (%s)' % category\n",
    "        print('%d %d%% (%s) %.4f %s / %s %s' % (iter, iter / n_iters * 100, timeSince(start), loss, line, guess, correct))\n",
    "\n",
    "    # Add current loss avg to list of losses\n",
    "    if iter % plot_every == 0:\n",
    "        all_losses.append(current_loss / plot_every)\n",
    "        current_loss = 0"
   ]
  },
  {
   "cell_type": "markdown",
   "metadata": {
    "id": "ZCfI5JkHWGjH"
   },
   "source": [
    "### Plotting the Results\n",
    "\n",
    "Plotting the historical loss from ``all_losses`` shows the network\n",
    "learning:\n",
    "\n",
    "\n"
   ]
  },
  {
   "cell_type": "code",
   "execution_count": 33,
   "metadata": {
    "colab": {
     "base_uri": "https://localhost:8080/",
     "height": 447
    },
    "executionInfo": {
     "elapsed": 1370,
     "status": "ok",
     "timestamp": 1686924769467,
     "user": {
      "displayName": "atanu maity",
      "userId": "05429035846975438358"
     },
     "user_tz": -330
    },
    "id": "jo5WfI7cWGjH",
    "outputId": "4e22e4cf-98a5-4fd1-8fc3-7500bb30544a"
   },
   "outputs": [
    {
     "data": {
      "text/plain": [
       "[<matplotlib.lines.Line2D at 0x7f5370b27070>]"
      ]
     },
     "execution_count": 33,
     "metadata": {},
     "output_type": "execute_result"
    },
    {
     "data": {
      "image/png": "[encoded data removed]",
      "text/plain": [
       "<Figure size 640x480 with 1 Axes>"
      ]
     },
     "metadata": {},
     "output_type": "display_data"
    }
   ],
   "source": [
    "import matplotlib.pyplot as plt\n",
    "import matplotlib.ticker as ticker\n",
    "\n",
    "plt.figure()\n",
    "plt.plot(all_losses)"
   ]
  },
  {
   "cell_type": "markdown",
   "metadata": {
    "id": "OmEBm8i9WGjH"
   },
   "source": [
    "## Evaluating the Results\n",
    "\n",
    "To see how well the network performs on different categories, we will\n",
    "create a confusion matrix, indicating for every actual language (rows)\n",
    "which language the network guesses (columns). To calculate the confusion\n",
    "matrix a bunch of samples are run through the network with\n",
    "``evaluate()``, which is the same as ``train()`` minus the backprop.\n",
    "\n",
    "\n"
   ]
  },
  {
   "cell_type": "code",
   "execution_count": null,
   "metadata": {
    "id": "bXdK_5SvWGjI"
   },
   "outputs": [],
   "source": [
    "# Keep track of correct guesses in a confusion matrix\n",
    "confusion = torch.zeros(n_categories, n_categories)\n",
    "n_confusion = 10000\n",
    "\n",
    "# Just return an output given a line\n",
    "def evaluate(line_tensor):\n",
    "    hidden = rnn.initHidden()\n",
    "\n",
    "    for i in range(line_tensor.size()[0]):\n",
    "        output, hidden = rnn(line_tensor[i], hidden)\n",
    "\n",
    "    return output\n",
    "\n",
    "# Go through a bunch of examples and record which are correctly guessed\n",
    "for i in range(n_confusion):\n",
    "    category, line, category_tensor, line_tensor = randomTrainingExample()\n",
    "    output = evaluate(line_tensor)\n",
    "    guess, guess_i = categoryFromOutput(output)\n",
    "    category_i = all_categories.index(category)\n",
    "    confusion[category_i][guess_i] += 1\n",
    "\n",
    "# Normalize by dividing every row by its sum\n",
    "for i in range(n_categories):\n",
    "    confusion[i] = confusion[i] / confusion[i].sum()\n",
    "\n",
    "# Set up plot\n",
    "fig = plt.figure()\n",
    "ax = fig.add_subplot(111)\n",
    "cax = ax.matshow(confusion.numpy())\n",
    "fig.colorbar(cax)\n",
    "\n",
    "# Set up axes\n",
    "ax.set_xticklabels([''] + all_categories, rotation=90)\n",
    "ax.set_yticklabels([''] + all_categories)\n",
    "\n",
    "# Force label at every tick\n",
    "ax.xaxis.set_major_locator(ticker.MultipleLocator(1))\n",
    "ax.yaxis.set_major_locator(ticker.MultipleLocator(1))\n",
    "\n",
    "# sphinx_gallery_thumbnail_number = 2\n",
    "plt.show()"
   ]
  },
  {
   "cell_type": "markdown",
   "metadata": {
    "id": "xOxz1CpqWGjI"
   },
   "source": [
    "You can pick out bright spots off the main axis that show which\n",
    "languages it guesses incorrectly, e.g. Chinese for Korean, and Spanish\n",
    "for Italian. It seems to do very well with Greek, and very poorly with\n",
    "English (perhaps because of overlap with other languages).\n",
    "\n",
    "\n"
   ]
  },
  {
   "cell_type": "markdown",
   "metadata": {
    "id": "z1-6abgrWGjI"
   },
   "source": [
    "### Running on User Input\n",
    "\n",
    "\n"
   ]
  },
  {
   "cell_type": "code",
   "execution_count": null,
   "metadata": {
    "id": "se3yMriqWGjI"
   },
   "outputs": [],
   "source": [
    "def predict(input_line, n_predictions=3):\n",
    "    print('\\n> %s' % input_line)\n",
    "    with torch.no_grad():\n",
    "        output = evaluate(lineToTensor(input_line))\n",
    "\n",
    "        # Get top N categories\n",
    "        topv, topi = output.topk(n_predictions, 1, True)\n",
    "        predictions = []\n",
    "\n",
    "        for i in range(n_predictions):\n",
    "            value = topv[0][i].item()\n",
    "            category_index = topi[0][i].item()\n",
    "            print('(%.2f) %s' % (value, all_categories[category_index]))\n",
    "            predictions.append([value, all_categories[category_index]])\n",
    "\n",
    "predict('Dovesky')\n",
    "predict('Jackson')\n",
    "predict('Satoshi')"
   ]
  },
  {
   "cell_type": "markdown",
   "metadata": {
    "id": "6eSzsmU7WGjI"
   },
   "source": [
    "The final versions of the scripts [in the Practical PyTorch\n",
    "repo](https://github.com/spro/practical-pytorch/tree/master/char-rnn-classification)_\n",
    "split the above code into a few files:\n",
    "\n",
    "-  ``data.py`` (loads files)\n",
    "-  ``model.py`` (defines the RNN)\n",
    "-  ``train.py`` (runs training)\n",
    "-  ``predict.py`` (runs ``predict()`` with command line arguments)\n",
    "-  ``server.py`` (serve prediction as a JSON API with ``bottle.py``)\n",
    "\n",
    "Run ``train.py`` to train and save the network.\n",
    "\n",
    "Run ``predict.py`` with a name to view predictions:\n",
    "\n",
    "::\n",
    "\n",
    "    $ python predict.py Hazaki\n",
    "    (-0.42) Japanese\n",
    "    (-1.39) Polish\n",
    "    (-3.51) Czech\n",
    "\n",
    "Run ``server.py`` and visit http://localhost:5533/Yourname to get JSON\n",
    "output of predictions.\n",
    "\n",
    "\n"
   ]
  },
  {
   "cell_type": "markdown",
   "metadata": {
    "id": "I3iGsUKXWGjI"
   },
   "source": [
    "## Exercises\n",
    "\n",
    "-  Try with a different dataset of line -> category, for example:\n",
    "\n",
    "   -  Any word -> language\n",
    "   -  First name -> gender\n",
    "   -  Character name -> writer\n",
    "   -  Page title -> blog or subreddit\n",
    "\n",
    "-  Get better results with a bigger and/or better shaped network\n",
    "\n",
    "   -  Add more linear layers\n",
    "   -  Try the ``nn.LSTM`` and ``nn.GRU`` layers\n",
    "   -  Combine multiple of these RNNs as a higher level network\n",
    "\n",
    "\n"
   ]
  }
 ],
 "metadata": {
  "colab": {
   "provenance": [
    {
     "file_id": "https://github.com/pytorch/tutorials/blob/gh-pages/_downloads/13b143c2380f4768d9432d808ad50799/char_rnn_classification_tutorial.ipynb",
     "timestamp": 1686740600463
    }
   ]
  },
  "kernelspec": {
   "display_name": "Python 3 (ipykernel)",
   "language": "python",
   "name": "python3"
  },
  "language_info": {
   "codemirror_mode": {
    "name": "ipython",
    "version": 3
   },
   "file_extension": ".py",
   "mimetype": "text/x-python",
   "name": "python",
   "nbconvert_exporter": "python",
   "pygments_lexer": "ipython3",
   "version": "3.8.10"
  }
 },
 "nbformat": 4,
 "nbformat_minor": 1
}
