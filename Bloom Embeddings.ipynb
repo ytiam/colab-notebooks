{
 "cells": [
  {
   "cell_type": "code",
   "execution_count": null,
   "id": "6dd76285",
   "metadata": {},
   "outputs": [],
   "source": [
    "#https://explosion.ai/blog/bloom-embeddings"
   ]
  },
  {
   "cell_type": "code",
   "execution_count": 2,
   "id": "02fc906b",
   "metadata": {},
   "outputs": [],
   "source": [
    "import numpy\n",
    "import mmh3\n",
    "\n",
    "def allocate(n_vectors, n_dimensions):\n",
    "    table = numpy.zeros((n_vectors, n_dimensions), dtype='f')\n",
    "    table += numpy.random.uniform(-0.1, 0.1, table.size).reshape(table.shape)\n",
    "    return table\n",
    "\n",
    "def get_vector(table, word):\n",
    "    hash1 = mmh3.hash(word, seed=0)\n",
    "    hash2 = mmh3.hash(word, seed=1)\n",
    "    row1 = hash1 % table.shape[0]\n",
    "    row2 = hash2 % table.shape[0]\n",
    "    return table[row1] + table[row2]\n",
    "\n",
    "def update_vector(table, word, d_vector):\n",
    "    hash1 = mmh3.hash(word, seed=0)\n",
    "    hash2 = mmh3.hash(word, seed=1)\n",
    "    row1 = hash1 % table.shape[0]\n",
    "    row2 = hash2 % table.shape[0]\n",
    "    table[row1] -= 0.001 * d_vector\n",
    "    table[row2] -= 0.001 * d_vector"
   ]
  },
  {
   "cell_type": "code",
   "execution_count": 3,
   "id": "b7a0021e",
   "metadata": {},
   "outputs": [],
   "source": [
    "vocab = ['apple', 'strawberry', 'orange', 'juice',\n",
    "         'drink', 'smoothie', 'eat', 'fruit',\n",
    "         'health', 'wellness', 'steak', 'fries',\n",
    "         'ketchup', 'burger', 'chips', 'lobster',\n",
    "         'caviar', 'service', 'waiter', 'chef']"
   ]
  },
  {
   "cell_type": "code",
   "execution_count": 4,
   "id": "7449ed11",
   "metadata": {},
   "outputs": [],
   "source": [
    "normal = numpy.random.uniform(-0.1, 0.1, (20, 2))\n",
    "hashed = numpy.random.uniform(-0.1, 0.1, (15, 2))"
   ]
  },
  {
   "cell_type": "code",
   "execution_count": 6,
   "id": "84a5a8a8",
   "metadata": {},
   "outputs": [
    {
     "data": {
      "text/plain": [
       "array([[ 0.05845019, -0.05989009],\n",
       "       [ 0.07981738, -0.08461014],\n",
       "       [-0.02075094, -0.05763877],\n",
       "       [ 0.04728252, -0.01430769],\n",
       "       [ 0.05705087,  0.07107201],\n",
       "       [ 0.08800396,  0.03277128],\n",
       "       [-0.05603557,  0.0692331 ],\n",
       "       [-0.02030276,  0.09480356],\n",
       "       [ 0.01767458, -0.0625011 ],\n",
       "       [-0.07545846, -0.08678463],\n",
       "       [ 0.01401482,  0.05783606],\n",
       "       [-0.04656627,  0.02606531],\n",
       "       [ 0.06772367,  0.06143871],\n",
       "       [ 0.08303966,  0.00454126],\n",
       "       [-0.04130344, -0.03400914]])"
      ]
     },
     "execution_count": 6,
     "metadata": {},
     "output_type": "execute_result"
    }
   ],
   "source": [
    "hashed"
   ]
  },
  {
   "cell_type": "code",
   "execution_count": 7,
   "id": "7cc430ee",
   "metadata": {},
   "outputs": [],
   "source": [
    "word2id = {}\n",
    "def get_normal_vector(word, table):\n",
    "    if word not in word2id:\n",
    "        word2id[word] = len(word2id)\n",
    "    return normal[word2id[word]]"
   ]
  },
  {
   "cell_type": "code",
   "execution_count": 8,
   "id": "833a148b",
   "metadata": {},
   "outputs": [],
   "source": [
    "hashes1 = [mmh3.hash(w, 1) % 15 for w in vocab]\n",
    "assert hashes1 == [3, 6, 4, 13, 8, 3, 13, 1, 9, 12, 11, 4, 2, 13, 5, 10, 0, 2, 10, 13]"
   ]
  },
  {
   "cell_type": "code",
   "execution_count": 10,
   "id": "6b36af74",
   "metadata": {},
   "outputs": [
    {
     "data": {
      "text/plain": [
       "13"
      ]
     },
     "execution_count": 10,
     "metadata": {},
     "output_type": "execute_result"
    }
   ],
   "source": [
    "len(numpy.unique(hashes1))"
   ]
  },
  {
   "cell_type": "code",
   "execution_count": 11,
   "id": "b3a7ea03",
   "metadata": {},
   "outputs": [],
   "source": [
    "from collections import Counter\n",
    "\n",
    "hashes2 = [mmh3.hash(w, 2) % 15 for w in vocab]\n",
    "assert len(Counter(hashes2).most_common()) == 12"
   ]
  },
  {
   "cell_type": "code",
   "execution_count": 12,
   "id": "8804616d",
   "metadata": {
    "scrolled": true
   },
   "outputs": [
    {
     "data": {
      "text/plain": [
       "12"
      ]
     },
     "execution_count": 12,
     "metadata": {},
     "output_type": "execute_result"
    }
   ],
   "source": [
    "len(numpy.unique(hashes2))"
   ]
  },
  {
   "cell_type": "code",
   "execution_count": 15,
   "id": "add5871b",
   "metadata": {},
   "outputs": [],
   "source": [
    "assert len(Counter(zip(hashes1, hashes2))) == 20"
   ]
  },
  {
   "cell_type": "code",
   "execution_count": 14,
   "id": "421e138e",
   "metadata": {
    "scrolled": false
   },
   "outputs": [
    {
     "name": "stdout",
     "output_type": "stream",
     "text": [
      "(3, 9)\n",
      "(6, 10)\n",
      "(4, 6)\n",
      "(13, 2)\n",
      "(8, 1)\n",
      "(3, 7)\n",
      "(13, 5)\n",
      "(1, 14)\n",
      "(9, 6)\n",
      "(12, 6)\n",
      "(11, 4)\n",
      "(4, 4)\n",
      "(2, 9)\n",
      "(13, 10)\n",
      "(5, 11)\n",
      "(10, 9)\n",
      "(0, 11)\n",
      "(2, 13)\n",
      "(10, 2)\n",
      "(13, 0)\n"
     ]
    }
   ],
   "source": [
    "for i in zip(hashes1, hashes2):\n",
    "    print(i)"
   ]
  },
  {
   "cell_type": "code",
   "execution_count": 17,
   "id": "369744a4",
   "metadata": {},
   "outputs": [
    {
     "name": "stdout",
     "output_type": "stream",
     "text": [
      "apple 0.106 -0.074\n",
      "strawberry -0.103 0.095\n",
      "orange 0.071 0.129\n",
      "juice 0.008 -0.082\n",
      "drink 0.097 -0.147\n",
      "smoothie -0.009 0.055\n",
      "eat 0.101 -0.058\n",
      "fruit 0.163 -0.080\n",
      "health -0.061 -0.029\n",
      "wellness 0.115 0.047\n",
      "steak 0.033 -0.059\n",
      "fries 0.145 0.104\n",
      "ketchup -0.042 -0.115\n",
      "burger 0.008 -0.082\n",
      "chips 0.146 -0.027\n",
      "lobster -0.006 0.153\n",
      "caviar 0.106 -0.074\n",
      "service -0.042 -0.115\n",
      "waiter 0.082 0.119\n",
      "chef 0.171 0.037\n"
     ]
    }
   ],
   "source": [
    "for word in vocab:\n",
    "    key1 = mmh3.hash(word, 0) % 15\n",
    "    key2 = mmh3.hash(word, 1) % 15\n",
    "    vector = hashed[key1] + hashed[key2]\n",
    "    print(word, '%.3f %.3f' % tuple(vector))"
   ]
  },
  {
   "cell_type": "code",
   "execution_count": null,
   "id": "fc55c90d",
   "metadata": {},
   "outputs": [],
   "source": []
  }
 ],
 "metadata": {
  "kernelspec": {
   "display_name": "Python 3 (ipykernel)",
   "language": "python",
   "name": "python3"
  },
  "language_info": {
   "codemirror_mode": {
    "name": "ipython",
    "version": 3
   },
   "file_extension": ".py",
   "mimetype": "text/x-python",
   "name": "python",
   "nbconvert_exporter": "python",
   "pygments_lexer": "ipython3",
   "version": "3.9.12"
  }
 },
 "nbformat": 4,
 "nbformat_minor": 5
}
