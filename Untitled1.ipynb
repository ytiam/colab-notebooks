{
 "cells": [
  {
   "cell_type": "code",
   "execution_count": 1,
   "metadata": {},
   "outputs": [],
   "source": [
    "import pandas as pd"
   ]
  },
  {
   "cell_type": "code",
   "execution_count": 2,
   "metadata": {},
   "outputs": [],
   "source": [
    "data = pd.read_csv('Crimes_-_2001_to_present.csv',nrows=20)"
   ]
  },
  {
   "cell_type": "code",
   "execution_count": 4,
   "metadata": {},
   "outputs": [
    {
     "data": {
      "text/plain": [
       "Index(['ID', 'Case Number', 'Date', 'Block', 'IUCR', 'Primary Type',\n",
       "       'Description', 'Location Description', 'Arrest', 'Domestic', 'Beat',\n",
       "       'District', 'Ward', 'Community Area', 'FBI Code', 'X Coordinate',\n",
       "       'Y Coordinate', 'Year', 'Updated On', 'Latitude', 'Longitude',\n",
       "       'Location', 'Historical Wards 2003-2015', 'Zip Codes',\n",
       "       'Community Areas', 'Census Tracts', 'Wards', 'Boundaries - ZIP Codes',\n",
       "       'Police Districts', 'Police Beats'],\n",
       "      dtype='object')"
      ]
     },
     "execution_count": 4,
     "metadata": {},
     "output_type": "execute_result"
    }
   ],
   "source": [
    "data.columns"
   ]
  },
  {
   "cell_type": "code",
   "execution_count": 11,
   "metadata": {
    "scrolled": true
   },
   "outputs": [],
   "source": [
    "# data"
   ]
  },
  {
   "cell_type": "code",
   "execution_count": 1,
   "metadata": {},
   "outputs": [],
   "source": [
    "import pandas as pd"
   ]
  },
  {
   "cell_type": "code",
   "execution_count": 97,
   "metadata": {},
   "outputs": [],
   "source": [
    "# !pip install --user pyarrow"
   ]
  },
  {
   "cell_type": "code",
   "execution_count": 6,
   "metadata": {},
   "outputs": [],
   "source": [
    "df = pd.read_parquet('latest_spark_scripts/fp_with_cut_off_with_prob_clms_w_text_all.parquet.gzip')"
   ]
  },
  {
   "cell_type": "code",
   "execution_count": 7,
   "metadata": {},
   "outputs": [
    {
     "data": {
      "text/plain": [
       "Index([b'Ids', b'prob', b'CLM_NUM_MAST', b'Charlie_Note_Text'], dtype='object')"
      ]
     },
     "execution_count": 7,
     "metadata": {},
     "output_type": "execute_result"
    }
   ],
   "source": [
    "df.columns"
   ]
  },
  {
   "cell_type": "code",
   "execution_count": null,
   "metadata": {},
   "outputs": [],
   "source": [
    "ALJ77196', 'ALJ10190', 'TAD52884', 'TAC96243', 'SLG20931',\n",
    "       'TAD65875', 'ALI44721', 'ALJ62792', 'CHG25455', 'TAD22095',\n",
    "       'SLH15336', 'ALJ85139', 'ALI56638', 'TAD16185', 'SLH06506',\n",
    "       'ALH34071', 'ALI58090', 'MCB12095', 'ALI92085'"
   ]
  },
  {
   "cell_type": "code",
   "execution_count": 10,
   "metadata": {},
   "outputs": [],
   "source": [
    "# df[df[b'CLM_NUM_MAST']=='ALI56638'][b'Charlie_Note_Text'].iloc[0]"
   ]
  },
  {
   "cell_type": "code",
   "execution_count": null,
   "metadata": {},
   "outputs": [],
   "source": [
    "# 'ALJ77196' - 'IME RATIONAL:  Not warrented due to reasonable tx consistent with high damages','ime/imr potential' - no siu\n",
    "# ALJ10190 - no siu\n",
    "# TAD52884 - '^Recd email from MES Solutions advised insd did not attend 2nd scheduled DC IME appt'- siu\n",
    "# TAC96243 - ' Bill# 5495298 dos 02/24/14 provider billed A9150  Nonprescription drug.' - siu?\n",
    "# ALI44721 - Asked if any alcohol was involved, he stated yes, had 1 drink around 9:00 pm, asked if he was ticketed, he stated no, asked if he had breathalyzer done, he stated yes but they wouldn?t tell him what he blew. He wasn?t sure why he had to go to er because he was not injured but think it was for him to have his blood taken  Explained no-fault benefits and went over paperwork  Injuries\n",
    "    \n",
    "# ALJ62792 - IME: 10/19/17 Ortho IME allows PT 3x/wk for 4wks to cspine only. 1 injection to rt knee 1 f/u visit per month for 2 months"
   ]
  },
  {
   "cell_type": "code",
   "execution_count": 2,
   "metadata": {},
   "outputs": [
    {
     "name": "stdout",
     "output_type": "stream",
     "text": [
      "download: s3://metblue-working/trash/Arup/alive_prediction/alive_prediction_with_cahrlie__02_12_19.csv to ./alive_prediction_with_cahrlie__02_12_19.csv\n"
     ]
    }
   ],
   "source": [
    "!aws s3 cp s3://metblue-working/trash/Arup/alive_prediction/alive_prediction_with_cahrlie__02_12_19.csv ."
   ]
  },
  {
   "cell_type": "code",
   "execution_count": 3,
   "metadata": {},
   "outputs": [],
   "source": [
    "check = pd.read_csv('alive_prediction_with_cahrlie__02_12_19.csv')"
   ]
  },
  {
   "cell_type": "code",
   "execution_count": 4,
   "metadata": {},
   "outputs": [
    {
     "data": {
      "text/plain": [
       "(82, 4)"
      ]
     },
     "execution_count": 4,
     "metadata": {},
     "output_type": "execute_result"
    }
   ],
   "source": [
    "check.shape"
   ]
  },
  {
   "cell_type": "code",
   "execution_count": 66,
   "metadata": {},
   "outputs": [
    {
     "data": {
      "text/html": [
       "<div>\n",
       "<style scoped>\n",
       "    .dataframe tbody tr th:only-of-type {\n",
       "        vertical-align: middle;\n",
       "    }\n",
       "\n",
       "    .dataframe tbody tr th {\n",
       "        vertical-align: top;\n",
       "    }\n",
       "\n",
       "    .dataframe thead th {\n",
       "        text-align: right;\n",
       "    }\n",
       "</style>\n",
       "<table border=\"1\" class=\"dataframe\">\n",
       "  <thead>\n",
       "    <tr style=\"text-align: right;\">\n",
       "      <th></th>\n",
       "      <th>CLM_NUM</th>\n",
       "      <th>ID</th>\n",
       "      <th>flag</th>\n",
       "      <th>charlienotetext_wholecombined</th>\n",
       "    </tr>\n",
       "  </thead>\n",
       "  <tbody>\n",
       "    <tr>\n",
       "      <th>50</th>\n",
       "      <td>SLM98463</td>\n",
       "      <td>SLM984630</td>\n",
       "      <td>True</td>\n",
       "      <td>Car rental set up thru Enterprise  1430 Cassat...</td>\n",
       "    </tr>\n",
       "  </tbody>\n",
       "</table>\n",
       "</div>"
      ],
      "text/plain": [
       "     CLM_NUM         ID  flag  \\\n",
       "50  SLM98463  SLM984630  True   \n",
       "\n",
       "                        charlienotetext_wholecombined  \n",
       "50  Car rental set up thru Enterprise  1430 Cassat...  "
      ]
     },
     "execution_count": 66,
     "metadata": {},
     "output_type": "execute_result"
    }
   ],
   "source": [
    "check[check['CLM_NUM']=='SLM98463']"
   ]
  },
  {
   "cell_type": "code",
   "execution_count": 70,
   "metadata": {
    "scrolled": true
   },
   "outputs": [
    {
     "data": {
      "text/plain": [
       "\"Insured was treated at St Lukes General Hospital in Newburgh NYDaniel Iskaros has been assigned as the Casualty - Auto handler for this claim.New Casualty Claim---INITIAL CONTACT SUMMARY---  Caller Name:   Kathy Montoya  Loss Info:   Insured ride his bike traveling north, claimant on a motorcycle going south. Claimant loss control of their vehicle and hit the insured. Claimant then fled the scene. Agent reporting loss   Injuries/Treatment (Y/N):   Insured to insureds left side, broken left leg Passengers and Relationship to PH:   none   Coverage Issues:   none Unlisted Driver? (do they have their own policy?)  none Purpose of Trip?   pedestrian Prior Losses:   0 related   Loss has been split for No Fault processing and has been assigned to Jody Preville, AIS, AIC.fwd VM from insd provder to the NF repPlease run HH check on clmt to Milegros Mendez-cruzMerary Feliciano is currently out of the office thru Aug  9 2019casualty Initial Review *sending priority alert to sup and manager for alleged trigger inj to the insd  SUM Limits $300k single combined limits  NY Policy / Orange County loss  No covg issues. Insd riding a bicycle   Low Impact: N/a  Liability: Pending at this time. Insd reported that the clmt lost  control of his motorcycle and struck the insd   Inj Party: Jeffery Jendrejeski Agent reports that the insd suffered a broken left leg treated at St.Luke. No other details known at this time  I called the insd - VM box was full.  ran iso - found clmt phone #. I called and the VM box was full  Opening AUO at this tme as the clmt fled the scene and the severity of the insd injuries.   sending contact and ack forms to both the insd and clmt  To Do -secure PR, statements and finalize liab -investigate clmts motorcycle covg as well as any excess policies -develop insd inj / txmt -convert / close AUO  Returned call to Anthony/Somers Orthopedic Jeffery was seen today for an initial eval for lt tib/fib fx next appt 8/29/19 at 10:45  - updated provider info Initial PIP Handling Policy State/Loss State: NY Policy, NY Loss Venue: Newburgh Coverage/Deductible: Basic $50K, OBEL $25K, APIP $100K, MedPay $1K, Deductible $0  Wage Limits: $3,000 month within 3 years from the dol Essential Service Limits: $50 day within 1 year from the dol Concurrent Coverage:  No, customer since 2015 Loss Description: reported by Agent - Insured riding his bike traveling north, claimant on a motorcycle going south. Claimant loss control of their vehicle and hit the insured. Claimant then fled the scene...however we have motorcycle owner listed Low Impact: No, insd suffered a lt tib/fib fx Subro: If we identify the ins carrier of the M-Cycle we can subro if we pay anything out under the NI's policy Passenger(s): n/a Other info  We need to determine if the M-Cycle has been identified and if they have insurance...if, so our NI insd wld fall under Exclusion  (i) the named insured or relative while not occupying a motor vehicle or a motorcycle when struck by a motorcycle in New York State with respect to which the coverage required by the New York Comprehensive Motor Vehicle Insurance Reparations Act is in effect;  SIU: not at this time Social Media: Google Search - nothing relevant Atty Rep: Unk  Injured Party: Jeffery Jendrejeski, dob 12/9/59 (59 YOM), bicyclist Coverage Eligibility: Jeffery wld be eligible for coverage under the M-Cycle Medicare Eligible: Unk, SS# is not on file Medicaid: Unk  Contact: 8/8/19 - Returned call to Anthony/Somers Orthopedic Jeffery was seen today for an initial eval for lt tib/fib fx next appt 8/29/19 at 10:45 BI called Jeffery on 8/8/19 and was unable to leave a message bc the vm was full  8/9/19 - Called Jeffery and vm is full, unable to leave a message  Injuries: left tib/fib fx Priors/PMH/Pre-existing conditions: Unk  Charlie claims with inj within the past 10 years: None ISO claims with injuries w/in the past 10 years:  None Initial Tx: amb to St. Luke's Cornwall Hosp Follow up Tx:  Yes with Somers Ortho COE: Unk, unlikely as he was riding a bicycle Lost Wages:  Unk Other Expenses:  Unk Forms: sending pip pkg $175K, NF11, NF Med Auth, Medicare Pkg, MedPay $1K, NF4 St Luke's Cornwall Hosp, NF3 Somers Ortho, Contact letter   Reserve: opening nbm-0 at table for now, will adjust as needed once more info becomes available   To Do:  Cont to try and make contact with Jeffery Explain coverages/forms determine if Ins Carrier for clmt has been identified, if so look to see if they are affording nf coverage in the meantime, until clmt carrier has been identified we can afford nf coverages and look to subro carrier once they have been identified f/u on forms f/u on inj status and tx monitor reserve  ISO Report in TrexoISO Report in TrexoCalled Jeffery - the mailbox is full and cannot accept any messages at this time  - sending another contact letterrcvd er report from St Luke's Cornwall Hosp dos 7/20/19 PSH - Multiple knee surgeries, bilateral knee replacements was riding his bicycle and was struck by a motorcycle from the side reports m-cycle T-boned him from the left side patient had helmet on no loc c/o left knee pain, abrasion to rt elbow lt knee xray - s/p total knee replacement with avulsion fx of the left proximal fib and small suprapatellar effusion lt femur xray - mild degenerative changes are noted in the left hip joint with total left knee replacement without evidence of femoral fx ortho consult - placed in knee immobilizer, and crutches and f/u as outpatient t&r   HHI check completed on Milegros Mendez-Cruz, no results found   Person Search Results   Search Terms Used -  Last Name: MENDEZ-CRUZ; First Name: MILEGROS; Street: 53 POST RD; City: MONROE; State: NY; ZIP Code: 10950;     No records found   Alert to Rep **Recorded Interview:    Name/Role  Date/Time of accident: 7pm   Year/Make/Model:  A/b deployment:  Weather: clear / dry # Vehs/Property Involved: insd / clmt motorcycle Passengers/Injury:    Streets: south lander st and overlook place Lanes/Direction of Travel: insd o Posted Speed Limit: 30 mph Traffic Controls: stop sign on overlook - clmt had a stop sign   Speed of Vehicles: well over the speed limit When did you first see the other veh:  Evasive Actions:    POI IV: side of the bicycle POI CV:    Police/Tickets  Witnesses:  TNC/Rideshare:    Drugs/Alcohol/Meds:  (MA) Bailment/Purpose of Use:  TNC/Rideshare:  Detailed Loss Description: insd was waiting to enter traffic. Clmt heading n/b on lander st. insd looking to cross. Clmt lost control of the motorcycle, sliding sideways, and slid right into the insd. insd was ejected from the bicycle Spoke with the insd Jeff. Insd advised he has a copy of the PR and will fax it to me. Insd advised the clmt was driving a motorcycle with stolen plates and fled the scene. It appears CV is uninsured.   Insd stated he suffered a broken leg. no surgery at this time. is still out of work. Clmt will fax me the PR and ER discharge summary showing the fx leg.  I explained SUM covg, insd was not sure at this time whether or not he will pursue.  AUO remains proper at this time. Will await the PR to see if clmt driver is listed and will run searches for insurance.Police Report  clmt CF - unsafe speed  insd stated he was struck by a small white motorcycle bearing NY license plate 59TR38. insd states he was riding n/b on South lander st just north of overlook place when the clmt traveling at a high rate of speed lost control and skidded on its left side striking the insd. insd states prior to police arrival the clmt picked up the motorcycle and fled the scene  insd suffered non-life threatening injuries to his left arm, left hip and left leg  insd transported by EMS to st lukes hospital  Recd StLukes ER record that states insd suffered a Fibula FxReturned call to Jeffery and left a vmRcvd return call from Jeffery He said the bicycle was thrown with him on it he was wearing a helmet and his headlight and rear tail light were on on his bike he said the m-cycle had a stolen plate on it Jeffery was on the sidewalk with the m-cycle hit him the m-cycle was on its side when it hit him on his bicycle, Jeffery feels if the m-cycle was upright he may not have survived the incident suffered left tib/fib fx, lt arm pain, lt shoulder pain, lt knee pain, lt hip pain and is black/blue/purple and has a lump on it amb to St Luke's Cornwall Hosp, was there from around 7pm on 7/20/19 and discharged early morning hours on 7/21 from ER having f/u with Somers Ortho, next appt 8/29 no surgeries to date due to mva soft cast on leg, gentle walking on it if needed left ankle/leg very swollen, doing his best to keep it elevated at this time dr is not sure about surgery yet Pre-existing - total left knee replacement 10 years ago, total knee replacement rt knee @ 2 years ago, no inj/surgery to the left arm/shoulder, he was not rcving any treatment prior to this accident tries to bike about 120 miles per week Employed - Yes Occ: Structural Maintainer for NYC Transit MTA, works in the tunnels, needs to be able to walk and climb ladders out of work since dol Also has a separate ins policy that he pays for which reimburses him $1,200 a month, $300 week if he has to take time off of work for being sick/injuries     - explained that we will take the $1200 as an offsets, as well as NYS disability if he is entitled to it. He does not know if he is.  - he will call back with employers info, so I can send an nf6  - he will also forward dis note and is aware that we need one every 30 days  - opening nbe-0 $6,001 and nes-0 $3,001  - sending 2nd pip forms to EIP, he has not rcvd the first set yet Please run NY Plate for insurance info 59TR38  ThanksRan plate through NY DMV as requested, forwarded to requesting rep and imported into trexo.ISO Report in TrexoRcvd plate check for M-cycle 59TR38 current insurance StateFarm eff date 7/11/18 policy # 2760990E3152  - forwarded plate check to BIack alert - sent email to subro callouts  to set up claim under clmts policy with statefarmRcvd call from Jeffery he is faxing the address for his employer along with the dis note he is going to complete the nf paperwork over the weekend and mail it back next week  Recd call from insd. Insd asked about the pain and suffering part of the claim. I explained that we are still investigating whether or not the clmt had active insurance covg. I advised if so , pain and suffering would go through that insurance. I advised that if the clmt is UM/UIM , then he can go through MetLife. I explained the $300k covg. Insd thanked me. Insd provided the contact info for the private investigator on the case in the newburgh PD  Robert Vasta 845 - 569 - 7521  Rcvd employer's contact info from EIP via fax 8/22/19  - mailed nf6 Rcvd dis note dated 7/22/19 oow until further notice, will be re-evaluated on 8/29/19 disability written by Somers OrthoCausalty Sup Review:  No coverage issues--insd was struck as a ped by a motorcycle.  Rideshare n/a.  Reserve proper at AUO for the insd. Insd ss# on file. UMACK-NY needs to be sent.   Liability to be determined.    Dan: --Please send the SUM duties letter to the insd as noted above.  --Follow to determine if valid coverage in the motorcycle and secure BI limits.  --Develop damages and liability.**** SUBRO CALL OUT COMPLETED ****  Was claim previously reported?    No Liability Status?      Adverse Carrier: State Farm Were any injuries reported  to the CC?  Mailing Address: PO Box 106171  Atlanta, GA 30348   Did you notify insured? No Via what email/text?    Additional Notes: sp w/Chelsea Called CC - they advised they are still looking to contact their policyholder and do not know who the driver is at this time. Advised they have $25/50k BI limits on the policy. liability is pending at this time  Lm4cb w/ insd to provide him with CC info. I sent him the NYUMUIM ack formISO Report in TrexoISO Report in TrexoCall received in Home Ops. from the Dr. office (212-937-0006).  Transfer to adj. ext. 8791 for a team member.Rcvd call spoke w/ortho provider already on file requesting to verify open pip claim, confirmed the sameDan: I see you have determine that the motorcycle has 25/50 limits. The insd has indicated he is pursuing UM/UIM. Please develop liability and damages and determine if an AUU is needed by the end of this week.  Priority alert to rep.Rec'd NF3 from Somers Ortho for Jeffrey on 8/26/19 Inj: fx left fibula Tx on 7/22/19 No to similar condition Yes solely result of mva Not arising out of employment Dis 7/22/19-10/1/19 Still under careLiability Review  0% vs the insd  Insd was riding his bicycle when the clmt was traveling at a high rate of speed. Lost control of the motorcycle. Motorcycle skidded on its left side and struck the insdAt this time , opening AUU and closing AUO for the insd as CC has $25k in covg and insd is looking to pursue UM/UIMIn addition to Dan's noted, AUU is proper given the injury sustained--insd sustained a leg fx and tort appears liable. Tort has a basic policy triggering a UIM with no offset.   Dan: Need to further develop and determine if an increase off the table reserve is needed by 10/4.NF Closing Review Injured Party: Jeffery Jendrejeski, dob 12/9/59 (59 YOM), bicyclist Reason for closing: Called State Farm and they have an open NF claim and are affording nf benefits. They have a $75K policy and have not paid anything to date. NF Adjuster - Peg Cole, ph# 518 884 5261 State Farm cl# 52B1868L5  I called Jeffery and explained a denial forthcoming from us. I explained State Farm primary for nf billing and wage claim and there is a $75K policy for this. Further explained if he exhausts teh $75K policy to call me as he has additional NF coverages under his own MetLife Policy. He mailed the nf paperwork back to State Farm and MetLife last week.  Tally/M1 Match - nothing paid No medical bills on file  Subro Flagged: no Open suit/arb: no:   IME Denials or Re-evals pending:  n/a  Medicare Eligible: No, SS# on file  sending global claim denial as State Farm is primaryRcvd completed nf2 from Jeffery on 9/11/19 Injuries- cuts, bruises, swollen and fx leg COE - no Wages - Yes, oow since 7/22/19 Yes to more tx db450 rcvd - unable to work until 10/13/19 (estimated RTW date) completed by Dr. Styles  rcvd signed nf med auth rcvd signed nf11Received call from Kyla w/St. Luke's for status dos 7/20/19 $210.91.  Advised denied, covered by State Farm and provided claim number.ISO Report in TrexoISO Report in TrexoCalled CC and spoke to rep. I asked for status on covg? CC advised covg investigation is still pending speaking with their policyholder.  I Lm4cb w/ insd to advise him of thisspoke with insd. Insd advised he has spoken with CC who has advised that their covg investigation is still pending the Police theft report. I explained that there is nothing we can do on our end until we get the decision from state farm. insd u/s and advised he will begin to call CC every dayDan: RDM is due 10/4. Please develop more info on liability and damages so we have sufficient info in which to create the RDM with.  When does State Farm expect to complete their investigation into coverage? As a correction to my prior note, we do have a 25k offset.   Alert to rep.alert to NF - recd call from CC advising they have denied pip due to the vehicle being stolen. They have issued multiple denials to the insd. I asked them if they could fax us a copy? CC said only with a release and that is why they issued multiple denials to the insd so he could share one with usJody Preville, AIS, AIC is currently out of the office thru Oct 14 2019In addition to prior note, i asked CC NF rep if BI denied for a covg denial as well? NF rep advised that BI has their own seperate investigation and that it is pending at this time.  I Lm4cb w/ BI rep for an updatePIP update -   I rec call from eip - he f/u with Ortho yesterday - he is still oow - will start PT next wk.  has f/u with Ortho on 10/31/19 - swelling still great from knee- foot - due to torn muscles and trauma to ligaments. 2 DVT scans done.  Bone is still not fully healed. Advised we need to have copy of state farm to move fwd with providing covg.  he advised they mailed it out to him yest. once he rec he will send to us.    at time of mva -  bruised from his waist down to bottom of his feet. bad bruise on hip. had to be cathetorized 2x since mva - he has a bad prostate - was needed til swelling went down on prostate - due to trauma from mva - this went thru his h/i.   he pays $50 every 2 wks for income insurance thru employer - employer does not pay into it - it is thru allstate - $1200/month - asked he send us copy of contract - paystub showing only he contributes to it and the pymt ltr.   Reopening NBE at $8k for 4 months oow and NEE at $4k Reopening NBM at table   send nf3 to pt this date sending 2nd nf6  I rec call from eip - he is faxing over the state farm denial, paystub, lod, and disability benefit contract  he spoke with employer- they will b sending over the wage form soon.Spoke with Rep at State Farm. She advised at this time, she has sent a coverage denial to her manager for approval. I asked if it was due to the stolen vehicle? Rep said yes. Rep will fax me a copy of the PR theft report and will fwd me a copy of the covg denial once it has been approved. I asked rep if they had any info on the clmt driver? Rep advised no.Dan: Any increase in the reserve is due by the end of this week (10/4). Please try CC daily for status of their BI coverage investigation.At this time, closing AUU and opening AUB as we recd the stolen vehicle report and CC has denied covg due to the stolen license plate.  Liability is 0% vs the insd. Insd advised the clmt was traveling at a high rate of speed, lost control of the vehicle , the motorcycle went sideways and slid into the insd.  Xrays on the DOL at the ER show the insd suffered a Left avulsion fx of the proximal fibula. 8/29/19 Ortho f/u diagnostics show 2 discrete fluid collections identified in the right calf, which likely explains the swelling.  Insd remains out of work since the DOL. Insd works for the MTA as a Structure maintainer and makes $66,351.86 a year. It appears there are no LW at this time between NF and the insd advised he pays Allstate for an income insurance policy.  Alert to sup - please review pending RDMPolice theft Report Summary/. See trexo for full report  7/20/19 @ approx 19:40 while on patrol i was dispatched to the area of S. lander st and overlook place for a report of a MVA. Insd stated while riding his bicycle n/b on S. Lander st just north of Overlook pl when a small white motorcycle bearing NY plate 59TR38 (S-1) traveling at a high rate of speed lost control and slid into the insd knocking him to the ground. insd stated the motorcycle sustained damage to the left side and a ruptured gas tank or fuel line. Insd stated that the clmt then picked up the motorcycle and lef tthe scene prior to police arrival. insd sustained non-life threatening injuris to his left arm, left hip & left leg.   Detective Narrative  I ran the motorcycle plate listed and it came back to a White 2004 motorcycle to a Milagros Mendez cruz.. State police went to Cruz house and reported no injuries or motorcyle on the premise. Detective knows the male that has ties to the motorcycle and that he was currently in the PD to report a stolen plate. The male had a report taken and placed in the interview room. Male states that he has a 3 wheeled scooter sitting at 88 broadway in the rear. he states that the scooter has not run for some time and that he left the plate on it so the scooter would be not towed away being it was parked in a municipal lot. he states he did not realize the plate had been stolen until the state police showed up at his house and spoke to him and hiswife about the incident. Once he spoke with the police he was told he was needed to report the plate stolen being the scooter was parked in newburgh, The plate is still reported stolen and has been entered into Ejustice.   Investigation is closed. If any new info does arise the case may be reopenedState Farm has since denied as their insd's motorcycle was not involved, rather the plate was stolen from a disabled motorcycle in his yard. This is a valid UM claim.  AUB has been opened and RDM has been completed. The insd sustained an avulsion fx of the proximal fibula of the left leg. No surgery, however there was a lot of soft tissue swelling and possible ligament damage. Reserve has been increased to 50k. We will need to monitor his recovery. We are not including any wages at this time--the insd has NF wage coverage, a separate disability policy he pays for as well as possible disability insurance.  Agree that based onthe p/r and insd stmt, tort is fully liable for the loss.  Reserve Assessment for JEFFERY JENDREJESKI Completed By:Daniel Iskaros Date:Oct  3 2019  7:38AMI rec call from Insd - looking to see if we rec NF6 yet - advised we have not.  his employer confirmed receipt of it - and advised she has 90 days to work the form.  he will continue to f/u.Spoke with the insd. He asked for next step in the process? I asked if he is still looking to pursue a UM claim? Insd said yes. I explained the claims process and that i will evaluate the file once he has completed treatment. Insd u/s. Insd advised that he just started PT last week and has a f/u with the ortho on 10/31  AUB @ the table remains properISO Report in TrexoRcvd disability note from Ortho on 10/1/19 Jeffrey will be out of work until further notice and will be re-evaluated on 10/31/19Rcvd copy of State Farm denial for nf coverages on 10/1/19 States Jeffery is not an EIP under their policy.  Denial wording - You do not qualify as an Eligible Injured party under basic New York or Additional Personal Injury Protection coverage as the vehicle you were struck by is not a vehicle insured under this policy.  The driver of the m-cycle used a stolen plate from a veh insd by StateFarm Driver of m-cycle has not been identified BI has accepted this as a valid UM claim and we will be affording NF coverages. sending wage dly pending nf6I rec vm from eip - 845-562-0678 - looking for cb - was not specific in what calling forJody Preville, AIS, AIC is currently out of the office thru Oct 16 2019Rcvd alert from J. Griffin Called Jeffery, advised NF6 has not been rcvd yet Next ortho appt sched 10/31/19 He started PT and is going 3x a week still has swelling in lower left leg and foot  I asked about NYS disability. He is going to f/u with his employer and Union Rep. He does not know if he gets this or how to go about filing for this. He is only rcving the $1200/month right now. I explained that we will take this as an offset.  There is no reduction in benefits to him under this plan if he were to be out again for something unrelated to MVA. He wld still be entitled to this benefit.NF F/U File Review Policy State/Loss State: NY Policy, NY Loss Venue: Newburgh Coverage/Deductible: Basic $50K, OBEL $25K, APIP $100K, MedPay $1K, Deductible $0  Wage Limits: $3,000 month within 3 years from the dol Essential Service Limits: $50 day within 1 year from the dol Concurrent Coverage:  No, customer since 2015 Loss Description: reported by Agent - Insured riding his bike traveling north, claimant on a motorcycle going south. Claimant loss control of their vehicle and hit the insured. Claimant then fled the scene... Low Impact: No, insd suffered a lt tib/fib fx Subro: If we identify the ins carrier of the M-Cycle we can subro Passenger(s): n/a Other info: Rcvd copy of State Farm denial for nf coverages on 10/1/19 States Jeffery is not an EIP under their policy.  Denial wording - You do not qualify as an Eligible Injured party under basic New York or Additional Personal Injury Protection coverage as the vehicle you were struck by is not a vehicle insured under this policy. The driver of the m-cycle used a stolen plate from a veh insd by StateFarm Driver of m-cycle has not been identified BI has accepted this as a valid UM claim and we will be affording NF coverages.  SIU: not at this time Social Media: Google Search - nothing relevant Atty Rep: No  Injured Party: Jeffery Jendrejeski, dob 12/9/59 (59 YOM), bicyclist Medicare Eligible:  No, SS# on file Medicaid: No  Contact: 8/8/19 - Returned call to Anthony/Somers Orthopedic Jeffery was seen today for an initial eval for lt tib/fib fx next appt 8/29/19 at 10:45 BI called Jeffery on 8/8/19 and was unable to leave a message bc the vm was full  8/9/19 - Called Jeffery and vm is full, unable to leave a message 8/13/19 - Called Jeffery, mailbox is full. Sent contact letter  8/16/19 - Rcvd return call from Jeffery He said the bicycle was thrown with him on it he was wearing a helmet and his headlight and rear tail light were on on his bike he said the m-cycle had a stolen plate on it Jeffery was on the sidewalk with the m-cycle hit him the m-cycle was on its side when it hit him on his bicycle, Jeffery feels if the m-cycle was upright he may not have survived the incident suffered left tib/fib fx, lt arm pain, lt shoulder pain, lt knee pain, lt hip pain and is black/blue/purple and has a lump on it amb to St Luke's Cornwall Hosp, was there from around 7pm on 7/20/19 and discharged early morning hours on 7/21 from ER having f/u with Somers Ortho, next appt 8/29 no surgeries to date due to mva soft cast on leg, gentle walking on it if needed left ankle/leg very swollen, doing his best to keep it elevated at this time dr is not sure about surgery yet Pre-existing - total left knee replacement 10 years ago, total knee replacement rt knee @ 2 years ago, no inj/surgery to the left arm/shoulder, he was not rcving any treatment prior to this accident tries to bike about 120 miles per week Employed - Yes Occ: Structural Maintainer for NYC Transit MTA, works in the tunnels, needs to be able to walk and climb ladders out of work since dol Also has a separate ins policy that he pays for which reimburses him $1,200 a month, $300 week if he has to take time off of work for being sick/injuries  - explained that we will take the $1200 as an offsets, as well as NYS disability if he is entitled to it. He does not know if he is.  - he will call back with employers info, so I can send an nf6  9/27/19 - J. Griffin rec'd call from eip - he f/u with Ortho yesterday - he is still oow - will start PT next wk.  has f/u with Ortho on 10/31/19 - swelling still great from knee- foot - due to torn muscles and trauma to ligaments. 2 DVT scans done.  Bone is still not fully healed. Advised we need to have copy of state farm to move fwd with providing covg.  he advised they mailed it out to him yest. once he rec he will send to us.   at time of mva - bruised from his waist down to bottom of his feet. bad bruise on hip. had to be catheterized 2x since mva - he has a bad prostate - was needed til swelling went down on prostate - due to trauma from mva - this went thru his h/i.  he pays $50 every 2 wks for income insurance thru employer - employer does not pay into it - it is thru Allstate - $1200/month - asked he send us copy of contract - paystub showing only he contributes to it and the pymt ltr.   10/16/19 - No need to make contact. EIP conts to f/u with Ortho and recently started a course of pt. EIP is aware that we are waiting on the nf6 from his employer in order to address his wages.   Priors/PMH/Pre-existing conditions: bilateral knee replacements Initial complaints: left tib/fib fx, left knee, abrasion to rt elbow Current complaints - left lower extremity  Medical reports:  er report from St Luke's Cornwall Hosp dos 7/20/19 PSH - Multiple knee surgeries, bilateral knee replacements was riding his bicycle and was struck by a motorcycle from the side reports m-cycle T-boned him from the left side patient had helmet on no loc c/o left knee pain, abrasion to rt elbow lt knee xray - s/p total knee replacement with avulsion fx of the left proximal fib and small suprapatellar effusion lt femur xray - mild degenerative changes are noted in the left hip joint with total left knee replacement without evidence of femoral fx ortho consult - placed in knee immobilizer, and crutches and f/u as outpatient t&r  8/29/19 - Ortho returns with concerns of swelling and increasing pain in the calf although a dopplar was obtained a month ago this is a change and I will have another dopplar done f/u 2-3 weeks  8/29/19 - Dopplar study 8/29/19 left lower extremity no evidence of DVT, 2 discrete fluid collections identified in the medial and posterior calf, consider MRI  Ortho 9/26/19 f/u for avulsion fx fibula no pain with deep pressure edema throughout the leg xray today reveals there is an avulsion fx of the fib not demonstrating any pathology with instability or knee function Plan - Light exercise such as biking can be performed, no impact or running f/u 4 wks TED stocking and some therapy for edema will be prescribed  Treatment - Ortho f/u and course of pt IME: Not warranted current tx plan is reasonable  Lost Wages:  Yes dis note on file though 10/31/19 Paystub on file - hourly rate $30.81 works full-time 40 hours week Disability deduction taken from pay  paid every 2 weeks EIP additional for TWU Local Disability Benefit provided by Allstate Ins and is entitled to $1,200 month Elimination period - 14 days Benefits period - 24 Months Disability waiver of Premium Benefit after 90 days Benefits paid in Addition to other coverages  Other Expenses:  Unk  Forms: 8/9/19 - sent pip pkg $175K, NF11, NF Med Auth, Medicare Pkg, MedPay $1K, NF4 St Luke's Cornwall Hosp, NF3 Somers Ortho, Contact letter  8/13/19 - sent contact letter 8/23/19 - mailed nf6 9/27/19 - mailed nf6 8/26/19 - rcvd nf3 from Somers Ortho; fx left fib 9/11/19 - rcvd nf2; cuts, bruises, swollen and fx left leg 9/11/19 - rcvd signed nf med auth and signed med auth 9/11/19 - rcvd signed nf11  Reserve:  nbm-0 $6,800 appropriate for now NBE-0 $8,000 appropriate for now NEE-0 $4000 appropriate for now  To Do:  set diary for a file review in 2 months address wages once NF6 is rcvd monitor inj/tx monitor reserve   A Medical bill payment has been made to MRI OF ORANGE    #2 in the amount of $127.5. e-mailed Jeff's completed nf2 to him so he can forward the wage auth to his employerA Medical bill payment has been made to ST LUKES CORNWALL HOSPITAL #1 in the amount of $347.29. ISO Report in TrexoA Medical Bill payment has been made to HUDSON VISTA PHYSICIAN SERVICE #3 in the amount of $323.08 regardingsending 2nd NF3 to Motion Sports MedicineWage Review - Jeffery Jendrejeski Coverage - $3K month within 3 years from the dol NF2 on file NF6 rcvd 10/28/19, first date missed 7/23/19, still out hourly rate $31.8999 was paid 7/23 - 8/17/19 and lost accumulated leave credits no pay since 8/20/19 Dis note on file through 10/31/19   Pay Period 7/23/19 - 8/21/19 Wage / Hour $ $31.90 Hours / Day 8 Wage / Day $ $255.20 Days Missed 22 Gross Earning $ $3,750.00 Disab $/ Day $34.00 Disab Days 17 = $578.00 Monthly Offset          $1,200.00 Total Disab $ $1,778.00 Net Wages $1,972.00 20% Offset $394.40 Total Offsets $2,172.40 Payment Due $1,577.60  Period 8/22/19 - 9/20/19 Wage / Hour $ $31.90 Hours / Day 8 Wage / Day $ $255.20 Days Missed 22 Gross Earning $ $3,750.00 Disab $/ Day $34.00 Disab Days 22 = $748.00 Monthly Offset          $1,200.00                     Total Disab $ $1,948.00 Net Wages $1,802.00 20% Offset $360.40 Total Offsets $2,308.40 Payment Due $1,441.60  Period 9/21/19 - 10/20/19 Wage / Hour $ $31.90 Hours / Day 8 Wage / Day $ $255.20 Days Missed 20 Gross Earning $ $3,750.00 Disab $/ Day $34.00 Disab Days 20 = $680.00 Monthly offsets        $1,200.00 Total Disab $ $1,880.00 Net Wages $1,870.00 20% Offset $374.00 Total Offsets $2,254.00 Payment Due $1,496.00  Issuing 1 check $4,515.20 nbe-0 code 21 Closing nee-0 Next wage review scheduled 11/19/19 for period 10/21 - 11/19/19  A Medical bill payment has been made to SOMERS ORTHOPAEDIC SURGERY #4 in the amount of $120.42. Rcvd call from Jeffery re wages  - advised wage check issued yesterday Next Ortho appt 10/31/19 and going to pt 3x a wk muscles are very tight in leg still and they are doing massage in PT***CORRECTION TO WAGE REVIEW on 10/29/19*** Issuing additional pymt Rcvd call from Jeffery/EIP with questions re the wage calculation form rcvd  for the first pay period there is a 14 day elimination period on the $1,200, so the offset shld only be $600 also discussed NYS dis, he did not file for this bc his union rep had said it's not much....explained that we take it as an offset whether or not he applies for it, but if he is not entitled to it and submits something in writing to state he is not entitled to it or the claim is denied, then I would reconsider the offset, but from what I can tell he is entitled to same...He plans to talk with union rep and apply for same  he is going to fax info to show the 2 week holding period I re-reviewed the info previously sent in and it confirms what he is saying  New calculation for 7/23 - 8/23/19 Wage / Hour $ $31.90 Hours / Day 8 Wage / Day $ $255.20 Days Missed 22 Gross Earning $ $3,750.00 Disab $/ Day $34.00 Disab Days 17 days = $578.00 Monthly Offsets        $600.00 (2 weeks, as there is a 2 week elimination period Total Disab $ $1,178.00 Net Wages $2,572.00 20% Offset $514.40 Total Offsets $1,692.40 Payment Due $2,057.60  I prevously reimbursed him $1,577.60 on 10/29/19 $2,057.60 - $1,577.60 = $480.00 issuing additional pymt Rcvd call from Jeffery seen ortho today and was given an extended dis note through 12/5/19 he is getting very frustrated with having to sit around the house he is waiting impatiently to get back to work he is going to push the dr to let him go back on 12/6 advised him to be patient and comply with pt and the dr will release him when it is in his best interest he thanked me for my kind words and will fax the dis note shortlyCC returned adjuster's voicemail. They are still investigating coverage, will reach out when they've finalized a decision.rcvd updaetd LOD from Jeff via fax 10/31/19 unable to work and will be re-evaluated on 12/5/19 Dr StylesISO Report in TrexoA Medical bill payment has been made to PROHEALTH CARE ASSOCIATES LLP    #9 in the amount of $45.00. A Medical bill payment has been made to PROHEALTH CARE ASSOCIATES LLP #10 in the amount of $45.00. Reviewed IST duplicate payment report for 11/4/19: payments are for different dates of service and aren't duplicates.  NBM-0 $45.00  A Medical Bill payment has been made to MOBILE LIFE SUPPORT SERVICES #11 in the amount of $1,165.50 regardingThe following Casualty key word(s) were found and triggered this alert: critical injury, requiring a file review.A Medical bill payment has been made to PROHEALTH CARE ASSOCIATES LLP   #13 in the amount of $45.00. A Medical bill payment has been made to PROHEALTH CARE ASSOCIATES LLP       #14 in the amount of $45.00. MIP Queue - False positive due to vendor name.   CEDReviewed IST duplicate payment report for 11/8/19: payments are for different dates of service and aren't duplicates.  NBM-0 $45.00  A Medical bill payment has been made to PROHEALTH CARE ASSOCIATES LLP     #15 in the amount of $45. reviewing the IST duplicate payment report for 11/11/19:  payments are for different dates of service and arent duplicates.  NBM - 0   $45.00A Medical bill payment has been made to  PROHEALTH CARE ASSOCIATES LLP    #16 in the amount of $45. reviewing the IST duplicate payment report for 11/18/19:  payments are for different dates of service and arent duplicates.  NBM - 0   $45.00Wage Review - Jeffery Jendrejeski Coverage - $3K month within 3 years from the dol NF2 on file NF6 rcvd 10/28/19, first date missed 7/23/19, still out hourly rate $31.8999 was paid 7/23 - 8/17/19 and lost accumulated leave credits no pay since 8/20/19 Dis note on file through 12/5/19  Pay Period 10/21/19 - 11/19/19   Wage / Hour $ $31.90 Hours / Day 8 Wage / Day $ $255.20 Days Missed 22 Gross Earning $ $3,750.00 Disab $/ Day $34.00 Disab Days 22 days $748.00 + $1200 Monthly Offsets  Total Disab $ $1,948.00 Net Wages $1,802.00 20% Offset $360.40 Total Offsets $2,308.40 Payment Due $1,441.60 nbe-0 code 21  Next wage review scheduled 12/19/19 for period 11/20 - 12/19/19ISO Report in TrexoA Medical bill payment has been made to PROHEALTH CARE ASSOC LLP #18 in the amount of $45.00. reviewing the IST duplicate payment report for 11/22/19:  payments are for different dates of service and not duplicates.  NBM - 0   $45.00A Medical bill payment has been made to PROHEALTH CARE ASSOCIATES LLP #21 in the amount of $45.00. A Medical bill payment has been made to PROHEALTH CARE ASSOCIATES LLP #20 in the amount of $45.00. A Medical bill payment has been made to SOMERS ORTHOPAEDIC SURGERY #19 in the amount of $163.16. \""
      ]
     },
     "execution_count": 70,
     "metadata": {},
     "output_type": "execute_result"
    }
   ],
   "source": [
    "check[check['CLM_NUM']=='SLM96066']['charlienotetext_wholecombined'].iloc[0]"
   ]
  },
  {
   "cell_type": "code",
   "execution_count": null,
   "metadata": {},
   "outputs": [],
   "source": []
  },
  {
   "cell_type": "code",
   "execution_count": null,
   "metadata": {},
   "outputs": [],
   "source": []
  },
  {
   "cell_type": "code",
   "execution_count": null,
   "metadata": {},
   "outputs": [],
   "source": []
  }
 ],
 "metadata": {
  "kernelspec": {
   "display_name": "Python 3",
   "language": "python",
   "name": "python3"
  },
  "language_info": {
   "codemirror_mode": {
    "name": "ipython",
    "version": 3
   },
   "file_extension": ".py",
   "mimetype": "text/x-python",
   "name": "python",
   "nbconvert_exporter": "python",
   "pygments_lexer": "ipython3",
   "version": "3.6.5"
  }
 },
 "nbformat": 4,
 "nbformat_minor": 2
}
